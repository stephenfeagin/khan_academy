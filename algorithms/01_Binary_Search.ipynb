{
 "cells": [
  {
   "cell_type": "markdown",
   "metadata": {},
   "source": [
    "# Binary Search\n",
    "\n",
    "The key to binary search is keeping track of which possibilities are \"valid.\"\n",
    "It relies on having the input array already sorted, and so we can compare\n",
    "values to the desired value, and eliminate whole subarrays that we know are\n",
    "too big or too small.\n",
    "\n",
    "## Example:\n",
    "\n",
    "- Input: `[1..100]`  \n",
    "- Desired value: `x`  \n",
    "- Step 1: Is 50 greater than, less than, or equal to x?  \n",
    "    + If it is greater than x, we can eliminate the entire subarray `[50..100]` and only concern ourselves with the first half, `[1..49]`. Or vice-versa, if 50 is less than x.\n",
    "\n",
    "## Algorithm:\n",
    "\n",
    "1. Let `min = 1`, `max = n`, and the desired number = `x`  \n",
    "2. Let the average of `min` and `max`, rounded down, = `guess`\n",
    "3. If `guess == x`, STOP  \n",
    "4. If `guess < x`, let `min = guess + 1`  \n",
    "5. If `guess > x`, let `max = guess - 1`  \n",
    "6. GOTO 2\n",
    "\n",
    "_Extra step  not included in the lesson -- Step 1a: If `min == max` and `min != x`, STOP_\n",
    "\n",
    "## Example: First 25 Primes"
   ]
  },
  {
   "cell_type": "code",
   "execution_count": 1,
   "metadata": {},
   "outputs": [],
   "source": [
    "var primes = [2, 3, 5, 7, 11, 13, 17, 19, 23, 29, 31, 37, 41, 43, 47, 53, 59,\n",
    "              61, 67, 71, 73, 79, 83, 89, 97];"
   ]
  },
  {
   "cell_type": "markdown",
   "metadata": {},
   "source": [
    "To test if a given number is prime, we just have to determine whether it is in that list.\n",
    "\n",
    "### Manually:"
   ]
  },
  {
   "cell_type": "code",
   "execution_count": 2,
   "metadata": {},
   "outputs": [
    {
     "data": {
      "text/plain": [
       "25"
      ]
     },
     "execution_count": 2,
     "metadata": {},
     "output_type": "execute_result"
    }
   ],
   "source": [
    "primes.length;"
   ]
  },
  {
   "cell_type": "code",
   "execution_count": 3,
   "metadata": {},
   "outputs": [
    {
     "data": {
      "text/plain": [
       "12"
      ]
     },
     "execution_count": 3,
     "metadata": {},
     "output_type": "execute_result"
    }
   ],
   "source": [
    "var target = 67;\n",
    "var min = 0;\n",
    "var max = 24;\n",
    "var guess = Math.floor((0 + 24) / 2);  // 12\n",
    "guess;"
   ]
  },
  {
   "cell_type": "code",
   "execution_count": 4,
   "metadata": {},
   "outputs": [
    {
     "data": {
      "text/plain": [
       "false"
      ]
     },
     "execution_count": 4,
     "metadata": {},
     "output_type": "execute_result"
    }
   ],
   "source": [
    "primes[guess] === target;"
   ]
  },
  {
   "cell_type": "code",
   "execution_count": 5,
   "metadata": {},
   "outputs": [
    {
     "data": {
      "text/plain": [
       "true"
      ]
     },
     "execution_count": 5,
     "metadata": {},
     "output_type": "execute_result"
    }
   ],
   "source": [
    "primes[guess] < target;"
   ]
  },
  {
   "cell_type": "code",
   "execution_count": 6,
   "metadata": {},
   "outputs": [
    {
     "data": {
      "text/plain": [
       "true"
      ]
     },
     "execution_count": 6,
     "metadata": {},
     "output_type": "execute_result"
    }
   ],
   "source": [
    "min = guess + 1;\n",
    "guess = Math.floor((13 + 24) / 2);  // 18\n",
    "primes[18] === 67;  // true, STOP"
   ]
  },
  {
   "cell_type": "markdown",
   "metadata": {},
   "source": [
    "### As a function:"
   ]
  },
  {
   "cell_type": "code",
   "execution_count": 7,
   "metadata": {},
   "outputs": [
    {
     "name": "stdout",
     "output_type": "stream",
     "text": [
      "20\n",
      "8\n",
      "-1\n"
     ]
    }
   ],
   "source": [
    "/* Returns either the index of the location in the array,\n",
    "   or -1 if the array did not contain targetValue */\n",
    "var binarySearch = function(array, targetValue) {\n",
    "    var min = 0;\n",
    "    var max = array.length - 1;\n",
    "    var guess;\n",
    "\n",
    "    while (max >= min) {\n",
    "        guess = Math.floor((max + min) / 2);\n",
    "        if (array[guess] === targetValue) {\n",
    "            return guess;\n",
    "        } else if (array[guess] < targetValue) {\n",
    "            min = guess + 1;\n",
    "        } else {\n",
    "            max = guess - 1;\n",
    "        }\n",
    "    }\n",
    "\n",
    "    return -1;\n",
    "};\n",
    "\n",
    "console.log(binarySearch(primes, 73));\n",
    "console.log(binarySearch(primes, 23));\n",
    "console.log(binarySearch(primes, 14));"
   ]
  },
  {
   "cell_type": "markdown",
   "metadata": {},
   "source": [
    "## Running Time\n",
    "\n",
    "The key factor in binary search running time is that after an incorrect guess,\n",
    "the number of possible solutions is cut in half. The worst case scenario for\n",
    "binary search (in which the target is not present in the array) will take \n",
    "roughly $\\log_2(n) + 1$ steps to complete."
   ]
  }
 ],
 "metadata": {
  "kernelspec": {
   "display_name": "Javascript (Node.js)",
   "language": "javascript",
   "name": "javascript"
  },
  "language_info": {
   "file_extension": ".js",
   "mimetype": "application/javascript",
   "name": "javascript",
   "version": "10.15.0"
  }
 },
 "nbformat": 4,
 "nbformat_minor": 2
}
