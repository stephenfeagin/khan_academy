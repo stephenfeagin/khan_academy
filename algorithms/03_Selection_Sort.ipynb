{
 "cells": [
  {
   "cell_type": "markdown",
   "metadata": {},
   "source": [
    "# Sorting\n",
    "\n",
    "Even though most languages, particularly high-level languages, have built-in methods of sorting, it is a good class of problems to examine how different approaches can be used for the same task. \n",
    "\n",
    "## Implementing Swap\n",
    "\n",
    "Swapping the locations of two items in an array is a key component in sorting algorithms."
   ]
  },
  {
   "cell_type": "code",
   "execution_count": 1,
   "metadata": {
    "scrolled": true
   },
   "outputs": [
    {
     "name": "stdout",
     "output_type": "stream",
     "text": [
      "[ 9, 7, 4 ]\n"
     ]
    }
   ],
   "source": [
    "var swap = function(array, firstIndex, secondIndex) {\n",
    "    var temp = array[firstIndex];\n",
    "    array[firstIndex] = array[secondIndex];\n",
    "    array[secondIndex] = temp;\n",
    "};\n",
    "\n",
    "var testArray = [7, 9, 4];\n",
    "swap(testArray, 0, 1)\n",
    "\n",
    "console.log(testArray);"
   ]
  },
  {
   "cell_type": "markdown",
   "metadata": {},
   "source": [
    "# Selection Sort\n",
    "\n",
    "## Pseudocode\n",
    "\n",
    "1. Find the smallest card. Swap it with the first card.\n",
    "2. Find the second smallest card. Swap it with the second card.\n",
    "3. Find the third-smallest card. Swap it with the third card.\n",
    "4. Repeat finding the next-smallest card, and swapping it into the correct position until the array is sorted.\n",
    "\n",
    "## Implementation"
   ]
  },
  {
   "cell_type": "code",
   "execution_count": 2,
   "metadata": {},
   "outputs": [
    {
     "name": "stdout",
     "output_type": "stream",
     "text": [
      "[ -2, -1, 0, 1, 4 ]\n"
     ]
    }
   ],
   "source": [
    "var indexOfMinimum = function(array, startIndex) {\n",
    "    var minValue = array[startIndex];\n",
    "    var minIndex = startIndex;\n",
    "    \n",
    "    for (var i = minIndex + 1; i < array.length; i++) {\n",
    "        if (array[i] < minValue) {\n",
    "            minIndex = i;\n",
    "            minValue = array[i];\n",
    "        }\n",
    "    }\n",
    "    return minIndex;\n",
    "};\n",
    "\n",
    "var selectionSort = function(array) {\n",
    "    var minIndex;\n",
    "    \n",
    "    for (var i = 0; i < array.length; i++) {\n",
    "        minIndex = indexOfMinimum(array, i);\n",
    "        swap(array, i, minIndex);\n",
    "    }\n",
    "};\n",
    "\n",
    "var testArr = [-1, -2, 0, 1, 4];\n",
    "selectionSort(testArr);\n",
    "console.log(testArr);"
   ]
  },
  {
   "cell_type": "markdown",
   "metadata": {},
   "source": [
    "## Analysis\n",
    "\n",
    "Selection sort loops over every index in the array. At each index, it figures out the index of the minimum value in the subarray that goes to the end, and swaps that item for the item at the starting index.\n",
    "\n",
    "`swap()` calls three lines of code, regardless of input size, so it runs in $\\Theta(1)$ time. `indexOfMinimum()` depends on the size of the subarray and the initial ordering. The loop body runs $n-i$ times, where $i$ is the starting index. The initial ordering determines how many times it re-assigns `minIndex` and `minValue`. If $n=8$, then the first call to `indexOfMinimum` runs through the loop 8 times. In the second call, it goes through 7 times. Going down to the final call of `indexOfMinimum`, it loops through $\\sum_{i=1}^{n} i = 1 + 2 + 3 + 4 + 5 + 6 + 7 + 8 = 36$ times.\n",
    "\n",
    "The total running time of selection sort has three components:\n",
    "\n",
    "1. All of the calls to `indexOfMinimum()`\n",
    "2. All of the calls to `swap()`\n",
    "3. The rest of the loop in `selectionSort()`\n",
    "\n",
    "We know that there are $n$ calls to `swap()`, and each call takes constant time. So all of the calls to `swap()` take $\\Theta(n)$ time.\n",
    "\n",
    "The remainder of the `selectionSort()` loop outside of `indexOfMinimum()` and `swap()` is condition testing and incrementing the loop variable. That takes constant time for each iteration, so that is also $\\Theta(n)$.\n",
    "\n",
    "The number of iterations in `indexOfMinimum()` is dependent on the length of the subarray, which can be expressed as the arithmetic series $1 + 2 + \\ldots + (n -1) + n$. This series can be simplified to $n^2/2 + n/2$. In big-&Theta; notation, that simplifies to $\\Theta(n^2)$.\n",
    "\n",
    "In sum, the running time is $\\Theta(n^2) + 2\\Theta(n)$. The lower-order terms drop out, leaving us with $\\Theta(n^2)$.\n",
    "\n",
    "Because `indexOfMinimum()` _always_ takes $n^2/2 + n/2$ iterations, we know that the overall function runs in $\\Theta(n^2)$ time _in all cases_, regardless of initial sorting (unless we add an initial test for sortedness into the function).\n",
    "\n",
    "As an exercise, let's say that it takes $n^2/10^6$ seconds to sort $n$ values. If $n=100$, then the running time of selection sort is $100^2/100^6 = 1/100$ seconds. But if $n=1000$, the run time is $1000^2/10^6 = 1$ second. $n$ grew by a factor of 10, but the run time grew by a factor of 100."
   ]
  }
 ],
 "metadata": {
  "kernelspec": {
   "display_name": "Javascript (Node.js)",
   "language": "javascript",
   "name": "javascript"
  },
  "language_info": {
   "file_extension": ".js",
   "mimetype": "application/javascript",
   "name": "javascript",
   "version": "10.15.0"
  }
 },
 "nbformat": 4,
 "nbformat_minor": 2
}
