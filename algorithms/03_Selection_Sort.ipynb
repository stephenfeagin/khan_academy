{
 "cells": [
  {
   "cell_type": "markdown",
   "metadata": {},
   "source": [
    "# Sorting\n",
    "\n",
    "Even though most languages, particularly high-level languages, have built-in methods of sorting, it is a good class of problems to examine how different approaches can be used for the same task. \n",
    "\n",
    "## Implementing Swap\n",
    "\n",
    "Swapping the locations of two items in an array is a key component in sorting algorithms."
   ]
  },
  {
   "cell_type": "code",
   "execution_count": 1,
   "metadata": {
    "scrolled": true
   },
   "outputs": [
    {
     "name": "stdout",
     "output_type": "stream",
     "text": [
      "[ 9, 7, 4 ]\n"
     ]
    }
   ],
   "source": [
    "var swap = function(array, firstIndex, secondIndex) {\n",
    "    var temp = array[firstIndex];\n",
    "    array[firstIndex] = array[secondIndex];\n",
    "    array[secondIndex] = temp;\n",
    "};\n",
    "\n",
    "var testArray = [7, 9, 4];\n",
    "swap(testArray, 0, 1)\n",
    "\n",
    "console.log(testArray);"
   ]
  },
  {
   "cell_type": "markdown",
   "metadata": {},
   "source": [
    "# Selection Sort\n",
    "\n",
    "## Pseudocode\n",
    "\n",
    "1. Find the smallest card. Swap it with the first card.\n",
    "2. Find the second smallest card. Swap it with the second card.\n",
    "3. Find the third-smallest card. Swap it with the third card.\n",
    "4. Repeat finding the next-smallest card, and swapping it into the correct position until the array is sorted.\n",
    "\n",
    "## Implementation"
   ]
  },
  {
   "cell_type": "code",
   "execution_count": 2,
   "metadata": {},
   "outputs": [
    {
     "name": "stdout",
     "output_type": "stream",
     "text": [
      "[ -2, -1, 0, 1, 4 ]\n"
     ]
    }
   ],
   "source": [
    "var indexOfMinimum = function(array, startIndex) {\n",
    "    var minValue = array[startIndex];\n",
    "    var minIndex = startIndex;\n",
    "    \n",
    "    for (var i = minIndex + 1; i < array.length; i++) {\n",
    "        if (array[i] < minValue) {\n",
    "            minIndex = i;\n",
    "            minValue = array[i];\n",
    "        }\n",
    "    }\n",
    "    return minIndex;\n",
    "};\n",
    "\n",
    "var selectionSort = function(array) {\n",
    "    var minIndex;\n",
    "    \n",
    "    for (var i = 0; i < array.length; i++) {\n",
    "        minIndex = indexOfMinimum(array, i);\n",
    "        swap(array, i, minIndex);\n",
    "    }\n",
    "}\n",
    "\n",
    "var testArr = [-1, -2, 0, 1, 4];\n",
    "selectionSort(testArr);\n",
    "console.log(testArr);"
   ]
  }
 ],
 "metadata": {
  "kernelspec": {
   "display_name": "Javascript (Node.js)",
   "language": "javascript",
   "name": "javascript"
  },
  "language_info": {
   "file_extension": ".js",
   "mimetype": "application/javascript",
   "name": "javascript",
   "version": "10.15.0"
  }
 },
 "nbformat": 4,
 "nbformat_minor": 2
}
