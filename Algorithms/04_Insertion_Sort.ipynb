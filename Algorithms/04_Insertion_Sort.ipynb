{
 "cells": [
  {
   "cell_type": "markdown",
   "metadata": {},
   "source": [
    "# Insertion Sort\n",
    "\n",
    "Selection sort works by sorting the sub-array at the beginning, then adding each additional item from the sub-array at the end onto the end of the first sub-array.\n",
    "\n",
    "Insertion sort takes a different approach. It takes each item, one at a time, and _inserts_ it in the sorted \"results\" array at the correct position. The most common analogy for insertion sort is being dealt a hand of cards one at a time, and sorting each in your hand as they are dealt.\n",
    "\n",
    "If we want to add a new item to an already-sorted sub-array, we can just examine each item in the sorted portion, starting from the largest, and when we find an item smaller than the new one, we insert it at the end, at one index greater than the first that was smaller.\n",
    "\n",
    "## Example\n",
    "\n",
    "$A = \\{2, 3, 7, 8, 10, 13, 5\\}$. We can see that $A$ is sorted with the exception of the last index. Let's call that item the _key_. Starting with the largest item in $A$, we check to see if it is greater than the key. Each time we find one that is greater than the key, we _slide_ that element one position to the right.\n",
    "\n",
    "To make this work, we need to implement a `slide` operation and we need to save the value of the key in a separate place, so that it does not get overwritten."
   ]
  },
  {
   "cell_type": "code",
   "execution_count": 1,
   "metadata": {},
   "outputs": [],
   "source": [
    "var arr = [2, 3, 7, 8, 10, 13, 5];\n",
    "var key = 5;\n",
    "var i = 6;  // Starting index\n",
    "\n",
    "// Starting from the last index in the sorted sub-array:\n",
    "arr[i-1] > key;"
   ]
  },
  {
   "cell_type": "code",
   "execution_count": 2,
   "metadata": {},
   "outputs": [],
   "source": [
    "arr[i] = arr[i-1];\n",
    "arr"
   ]
  },
  {
   "cell_type": "code",
   "execution_count": 3,
   "metadata": {},
   "outputs": [],
   "source": [
    "i--;\n",
    "arr[i-1] > key;"
   ]
  },
  {
   "cell_type": "code",
   "execution_count": 4,
   "metadata": {},
   "outputs": [],
   "source": [
    "arr[i] = arr[i-1];\n",
    "arr"
   ]
  },
  {
   "cell_type": "code",
   "execution_count": 5,
   "metadata": {},
   "outputs": [],
   "source": [
    "i--;\n",
    "arr[i-1] > key;"
   ]
  },
  {
   "cell_type": "code",
   "execution_count": 6,
   "metadata": {},
   "outputs": [],
   "source": [
    "arr[i] = arr[i-1];\n",
    "arr"
   ]
  },
  {
   "cell_type": "code",
   "execution_count": 7,
   "metadata": {},
   "outputs": [],
   "source": [
    "i--;\n",
    "arr[i-1] > key;"
   ]
  },
  {
   "cell_type": "code",
   "execution_count": 8,
   "metadata": {},
   "outputs": [],
   "source": [
    "arr[i] = arr[i-1];\n",
    "arr"
   ]
  },
  {
   "cell_type": "code",
   "execution_count": 9,
   "metadata": {},
   "outputs": [],
   "source": [
    "i--;\n",
    "arr[i-1] > key;"
   ]
  },
  {
   "cell_type": "code",
   "execution_count": 10,
   "metadata": {},
   "outputs": [],
   "source": [
    "arr[i] = key;\n",
    "arr;"
   ]
  },
  {
   "cell_type": "markdown",
   "metadata": {},
   "source": [
    "Insertion sort repeatedly inserts an element into the sorted sub-array to its left. We start out knowing only that the sub-array containing only the first element is sorted by definition. So we can start with $i=1$ and $key=A_1$, and insert the key into the array $\\{A_0\\}$.\n",
    "\n",
    "## Example\n",
    "\n",
    "Let $A$ be the full array, and $a$ be the sorted sub-array.\n",
    "\n",
    "- $A = \\{10, 7, 3, 13, 2, 8, 5\\}$\n",
    "- $i = 1$\n",
    "- $key = A_i = 7$\n",
    "- $a = \\{A_0\\} = \\{10\\}$\n",
    "- $A_{i-1} > key? \\Rightarrow$\n",
    "    + $A_i = A_{i-1}$\n",
    "    + $A_{i-1} = key$\n",
    "- $A = \\{7, 10, 3, 13, 2, 8, 5\\}$\n",
    "- $a = \\{7, 10\\}$\n",
    "- Then repeat with $i=2$, $key=A_i=3$\n",
    "\n",
    "## Points of Consideration\n",
    "\n",
    "We have to account for what we do when the key is less than all elements to its left and when the key is greater than all elements to its left. In the first case, every element in the sub-array slides to the right, and the key is inserted at index 0. In the second case, we have to compare the key to all elements to its left, then drop it back in its original position.\n",
    "\n",
    "## Implementation"
   ]
  },
  {
   "cell_type": "code",
   "execution_count": 11,
   "metadata": {},
   "outputs": [],
   "source": [
    "var insert = function(array, rightIndex, value) {\n",
    "    var i;\n",
    "    for (i = rightIndex; i >= 0 && array[i] > value; i--) {\n",
    "        array[i+1] = array[i];\n",
    "    }\n",
    "\n",
    "    array[i+1] = value;\n",
    "};\n",
    "\n",
    "var array = [3, 5, 7, 11, 13, 2, 9, 6];\n",
    "insert(array, 4, 2);\n",
    "console.log(array);\n",
    "\n",
    "insert(array, 5, 9);\n",
    "console.log(array);\n",
    "\n",
    "insert(array, 6, 6);\n",
    "console.log(array);"
   ]
  },
  {
   "cell_type": "markdown",
   "metadata": {},
   "source": [
    "## Pseudocode\n",
    "\n",
    "1. Call `insert` to insert the element at index 1 into the sorted subarray in index 0.\n",
    "2. Call `insert` to insert the element at index 2 into the sorted subarray in indices 0 through 1.\n",
    "3 ...\n",
    "4. Call `insert` to insert the element at index $n-1$ into the sorted subarray in indices 0 through $n-2$.\n",
    "\n",
    "## Implementation"
   ]
  },
  {
   "cell_type": "code",
   "execution_count": 12,
   "metadata": {
    "scrolled": true
   },
   "outputs": [],
   "source": [
    "var insertionSort = function(array) {  \n",
    "    for (var i = 1; i < array.length; i++) {\n",
    "        insert(array, i-1, array[i]);\n",
    "    }\n",
    "};\n",
    "\n",
    "var newArray = [22, 11, 99, 88, 9, 7, 42];\n",
    "insertionSort(newArray);\n",
    "console.log(newArray);"
   ]
  },
  {
   "cell_type": "markdown",
   "metadata": {},
   "source": [
    "## Analysis\n",
    "\n",
    "Insertion sort loops over all indices in the array, just like selection sort. Instead of calling `indexOfMinimum`, it calls `insert`, which similarly depends on the length of the subarray.\n",
    "\n",
    "However, `insert` only has to loop through the subarray until it finds a value that is not greater than the key. `indexOfMinimum`, on the other hand, loops through the entire subarray every time. The arithmetic series is the same, where `insert` loops $1 + 2 + \\ldots + (n -1)$ times, which, like selection sort, is $\\Theta(n^2)$. However, the actual run time is greatly dependent on the initial ordering of the array. The worst case is $\\Theta(n^2)$, but the best case is $\\Theta(n)$. If every array starts out in a random order, then we expect each element to be less than half of the elements to its left. This is still $\\Theta(n^2)$, as the $1/2$ falls out. However, if we knew that the array was _almost_ sorted, it could take as little as $\\Theta(n)$."
   ]
  }
 ],
 "metadata": {
  "kernelspec": {
   "display_name": "Javascript (Node.js)",
   "language": "javascript",
   "name": "javascript"
  },
  "language_info": {
   "file_extension": ".js",
   "mimetype": "application/javascript",
   "name": "javascript",
   "version": "10.15.0"
  }
 },
 "nbformat": 4,
 "nbformat_minor": 2
}
